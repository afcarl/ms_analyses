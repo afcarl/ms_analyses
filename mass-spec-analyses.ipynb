{
 "cells": [
  {
   "cell_type": "code",
   "execution_count": 1,
   "metadata": {},
   "outputs": [],
   "source": [
    "from sklearn.linear_model import LogisticRegressionCV, LassoLarsCV\n",
    "import matplotlib.pyplot as plt\n",
    "import pandas as pd\n",
    "from gneiss.util import match\n",
    "import seaborn as sns\n",
    "import numpy as np\n",
    "from gneiss.util import match\n",
    "from scipy.stats import spearmanr\n",
    "\n",
    "%matplotlib inline"
   ]
  },
  {
   "cell_type": "code",
   "execution_count": 2,
   "metadata": {},
   "outputs": [],
   "source": [
    "fname = 'Full_table_new_metadata_N_acyls_features.xlsx'\n",
    "metadata = pd.read_excel(fname, sheetname='Full_table_new_metadata_N_acyls') \n",
    "x1 = pd.read_excel(fname, sheetname='330.26')\n",
    "x2 = pd.read_excel(fname, sheetname='344.28')\n",
    "x3 = pd.read_excel(fname, sheetname='387.33')\n",
    "x4 = pd.read_excel(fname, sheetname='401.33')\n",
    "x5 = pd.read_excel(fname, sheetname='611.53')"
   ]
  },
  {
   "cell_type": "code",
   "execution_count": 3,
   "metadata": {},
   "outputs": [],
   "source": [
    "x1 = x1.set_index('X.SampleID.1').iloc[:, 1:].dropna(1)\n",
    "x2 = x2.set_index('X.SampleID.1').iloc[:, 1:].dropna(1)\n",
    "x3 = x3.set_index('X.SampleID.1').iloc[:, 1:].dropna(1)\n",
    "x4 = x4.set_index('X.SampleID.1').iloc[:, 1:].dropna(1)\n",
    "x5 = x5.set_index('X.SampleID.1').iloc[:, 1:].dropna(1)"
   ]
  },
  {
   "cell_type": "code",
   "execution_count": 4,
   "metadata": {},
   "outputs": [],
   "source": [
    "X = pd.concat((x1, x2, x3, x4, x5), axis=1)"
   ]
  },
  {
   "cell_type": "code",
   "execution_count": 5,
   "metadata": {},
   "outputs": [],
   "source": [
    "bmi = metadata[['X.SampleID.1', 'BMI']]\n",
    "bmi = bmi.set_index('X.SampleID.1')\n",
    "bmi = bmi.dropna()\n",
    "X, bmi = match(X, bmi)"
   ]
  },
  {
   "cell_type": "code",
   "execution_count": 6,
   "metadata": {},
   "outputs": [
    {
     "name": "stderr",
     "output_type": "stream",
     "text": [
      "/Users/mortonjt/miniconda3/envs/q2-gneiss/lib/python3.5/site-packages/numpy/lib/function_base.py:3162: RuntimeWarning: invalid value encountered in true_divide\n",
      "  c /= stddev[:, None]\n",
      "/Users/mortonjt/miniconda3/envs/q2-gneiss/lib/python3.5/site-packages/numpy/lib/function_base.py:3163: RuntimeWarning: invalid value encountered in true_divide\n",
      "  c /= stddev[None, :]\n",
      "/Users/mortonjt/miniconda3/envs/q2-gneiss/lib/python3.5/site-packages/scipy/stats/_distn_infrastructure.py:879: RuntimeWarning: invalid value encountered in greater\n",
      "  return (self.a < x) & (x < self.b)\n",
      "/Users/mortonjt/miniconda3/envs/q2-gneiss/lib/python3.5/site-packages/scipy/stats/_distn_infrastructure.py:879: RuntimeWarning: invalid value encountered in less\n",
      "  return (self.a < x) & (x < self.b)\n",
      "/Users/mortonjt/miniconda3/envs/q2-gneiss/lib/python3.5/site-packages/scipy/stats/_distn_infrastructure.py:1818: RuntimeWarning: invalid value encountered in less_equal\n",
      "  cond2 = cond0 & (x <= self.a)\n"
     ]
    }
   ],
   "source": [
    "varz = metadata.columns[2:496] \n",
    "pvals = {}\n",
    "\n",
    "for v in varz:\n",
    "    y = metadata[['X.SampleID.1', v]]\n",
    "    y = y.set_index('X.SampleID.1')\n",
    "    y = y.dropna()\n",
    "    try:\n",
    "        X_, y = match(X, y)\n",
    "        y = np.ravel(y)\n",
    "        if np.issubdtype(y.dtype, np.number):\n",
    "            r = pd.DataFrame({\n",
    "                'rho': [spearmanr(y, X_[c])[0] for c in X_.columns],\n",
    "                'pvalue': [spearmanr(y, X_[c])[1] for c in X_.columns]\n",
    "            })\n",
    "            pvals[v] = np.min(r.pvalue)\n",
    "            r.to_csv('correlations/%s.csv' % v)\n",
    "    except:\n",
    "        continue"
   ]
  },
  {
   "cell_type": "code",
   "execution_count": 7,
   "metadata": {},
   "outputs": [],
   "source": [
    "p = pd.Series(pvals)\n",
    "p.to_csv('pvalues.csv')"
   ]
  },
  {
   "cell_type": "code",
   "execution_count": null,
   "metadata": {},
   "outputs": [],
   "source": []
  }
 ],
 "metadata": {
  "kernelspec": {
   "display_name": "Python 3",
   "language": "python",
   "name": "python3"
  },
  "language_info": {
   "codemirror_mode": {
    "name": "ipython",
    "version": 3
   },
   "file_extension": ".py",
   "mimetype": "text/x-python",
   "name": "python",
   "nbconvert_exporter": "python",
   "pygments_lexer": "ipython3",
   "version": "3.5.4"
  }
 },
 "nbformat": 4,
 "nbformat_minor": 2
}
